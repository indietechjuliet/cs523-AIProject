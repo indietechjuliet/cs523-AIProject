{
 "cells": [
  {
   "cell_type": "code",
   "execution_count": 65,
   "id": "031a53b7",
   "metadata": {},
   "outputs": [
    {
     "data": {
      "text/plain": [
       "'\\n  Author: Adam Tutko\\n  Description: This program checks applicants to Moogle against a set of criterion\\n               and if they pass all of them accepts them as an applicant to consider\\n\\n  Date: 08-30-2021\\n'"
      ]
     },
     "execution_count": 65,
     "metadata": {},
     "output_type": "execute_result"
    }
   ],
   "source": [
    "#!usr/bin/python\n",
    "\n",
    "\"\"\"\n",
    "  Author: Adam Tutko\n",
    "  Description: This program checks applicants to Moogle against a set of criterion\n",
    "               and if they pass all of them accepts them as an applicant to consider\n",
    "\n",
    "  Date: 08-30-2021\n",
    "\"\"\"\n",
    "\n"
   ]
  },
  {
   "cell_type": "code",
   "execution_count": 79,
   "id": "dd8fb543",
   "metadata": {},
   "outputs": [],
   "source": [
    "import pandas as pd\n",
    "from sklearn.linear_model import LinearRegression\n",
    "from numpy import nan\n",
    "from numpy import isnan\n",
    "from sklearn.impute import SimpleImputer"
   ]
  },
  {
   "cell_type": "code",
   "execution_count": 67,
   "id": "fce4b363",
   "metadata": {},
   "outputs": [],
   "source": [
    "\n",
    "data = pd.read_csv('dataWithHeaders.csv')\n",
    "  \n",
    "predictors = []\n",
    "    \n",
    "for x in range(2, 123):\n",
    "  predictors.append(x)\n"
   ]
  },
  {
   "cell_type": "code",
   "execution_count": 68,
   "id": "29793b12",
   "metadata": {},
   "outputs": [],
   "source": [
    "def oneOrZero(x):\n",
    "    if x > 0:\n",
    "        return 1\n",
    "    else:\n",
    "        return 0"
   ]
  },
  {
   "cell_type": "code",
   "execution_count": 69,
   "id": "fe329255",
   "metadata": {},
   "outputs": [],
   "source": [
    "data.iloc[:,123] = data.iloc[:,123].apply(oneOrZero)"
   ]
  },
  {
   "cell_type": "code",
   "execution_count": 84,
   "id": "4391c350",
   "metadata": {},
   "outputs": [
    {
     "name": "stdout",
     "output_type": "stream",
     "text": [
      "[[1.        2.        1.        ... 0.        0.        0.       ]\n",
      " [1.        1.        0.        ... 0.        0.        0.       ]\n",
      " [1.        0.        0.        ... 0.        0.        0.       ]\n",
      " ...\n",
      " [1.        3.        6.        ... 0.        1.        0.       ]\n",
      " [0.        2.        2.        ... 0.        0.        0.       ]\n",
      " [1.        2.        2.3161857 ... 0.        0.        0.       ]]\n"
     ]
    }
   ],
   "source": [
    "data = data.replace(\"?\", nan)\n",
    "imputer = SimpleImputer(missing_values=nan, strategy='mean')\n",
    "X = data.iloc[:, predictors]\n",
    "Y = data.iloc[:, 123]\n",
    "X = imputer.fit_transform(X)"
   ]
  },
  {
   "cell_type": "code",
   "execution_count": 85,
   "id": "0600428c",
   "metadata": {},
   "outputs": [],
   "source": [
    "lm = LinearRegression()\n",
    "model = lm.fit(X, Y)"
   ]
  },
  {
   "cell_type": "code",
   "execution_count": 86,
   "id": "1e05d7a8",
   "metadata": {},
   "outputs": [
    {
     "name": "stdout",
     "output_type": "stream",
     "text": [
      "alpha = 0.196058359170962\n",
      "betas = [-1.81928971e-02  8.77746463e-03  1.23473072e-02 -1.27779019e-02\n",
      "  2.45666403e-02 -1.36681405e-02  1.53565810e-02  4.10187568e-02\n",
      "  2.31505813e-03  5.43118667e-02 -9.46318745e-02 -2.00762561e-01\n",
      "  7.96953779e-03  9.57630072e-03  1.00450301e-01  2.54077809e-01\n",
      " -2.39755891e-01 -1.52594260e-01  1.20279623e-01 -8.78592486e-02\n",
      " -4.01812125e-01  6.04887985e-02 -2.52117188e-01  2.67695497e-02\n",
      "  4.61463491e-02  9.56439719e-02 -8.50536376e-02 -3.11869467e-02\n",
      "  4.37247546e-02  1.00917807e-01 -4.91125350e-03 -1.64287978e-03\n",
      " -4.43462926e-04 -1.67770413e-04 -1.19425591e-03  1.02934321e-04\n",
      "  4.85664692e-02  5.18492826e-01  2.05983702e-02 -3.80252790e-02\n",
      " -2.44988462e-01  1.50294292e-02  2.54403690e-02  1.03632885e-02\n",
      "  2.64494942e-02  1.12648745e-02  1.30597038e-01  2.59036994e-01\n",
      "  2.79427218e-01  2.03059373e-01 -3.91796270e-01  3.00567343e-01\n",
      "  2.47819709e-01  5.67695597e-02  2.54848906e-02  6.16399323e-03\n",
      "  7.55098022e-02  5.14322035e-02  3.44839582e-02  8.65330940e-02\n",
      "  1.04793721e-03 -5.07582052e-01 -1.95434344e-01  4.64077410e-02\n",
      "  2.07108286e-01 -1.01124867e-01  9.74578065e-02 -1.06742004e-02\n",
      "  1.68544757e-01  3.94938679e-02  8.21671541e-02 -2.14205916e-02\n",
      "  1.68819513e-01 -2.16842216e-02  3.14902747e-02  3.16687166e-02\n",
      " -1.77727956e-01 -8.13855139e-03 -1.05385237e-01  2.79269889e-01\n",
      " -1.81576069e-02  1.55514694e-02  1.40196841e-02 -1.42414737e-04\n",
      " -1.76751335e-02  4.82735692e-02 -1.14961874e-01  6.02830796e-03\n",
      "  1.09111199e-03 -8.07285578e-03  7.07071481e-03  1.98697359e-02\n",
      "  7.83372786e-02 -6.92019188e-02 -3.98067714e-02 -2.82414326e-02\n",
      "  9.50918320e-02  2.08898026e-02 -1.95626296e-02 -2.52849896e-02\n",
      "  7.26717903e-03  7.86685465e-03  2.10103077e-02 -2.01530843e-05\n",
      " -5.04167959e-02 -3.85394837e-02 -1.22836476e-02 -5.57454894e-02\n",
      " -4.14818027e-02  2.63884537e-03 -5.15384135e-04 -8.09665215e-04\n",
      " -4.17487813e-02  6.17509170e-02 -1.21851678e-02  1.42863915e-02\n",
      "  7.36046475e-01 -6.30526892e-02 -8.98887697e-02  1.23078301e-01\n",
      " -1.03398427e-01]\n"
     ]
    }
   ],
   "source": [
    "print(f'alpha = {model.intercept_}')\n",
    "print(f'betas = {model.coef_}')"
   ]
  },
  {
   "cell_type": "code",
   "execution_count": 87,
   "id": "59dccf24",
   "metadata": {},
   "outputs": [
    {
     "data": {
      "text/plain": [
       "array([0.36017744, 0.05444418, 0.08156268, ..., 0.50426454, 0.41934568,\n",
       "       1.0007557 ])"
      ]
     },
     "execution_count": 87,
     "metadata": {},
     "output_type": "execute_result"
    }
   ],
   "source": [
    "model.predict(X)"
   ]
  },
  {
   "cell_type": "code",
   "execution_count": null,
   "id": "37a5c42a",
   "metadata": {},
   "outputs": [],
   "source": []
  }
 ],
 "metadata": {
  "kernelspec": {
   "display_name": "Python 3 (ipykernel)",
   "language": "python",
   "name": "python3"
  },
  "language_info": {
   "codemirror_mode": {
    "name": "ipython",
    "version": 3
   },
   "file_extension": ".py",
   "mimetype": "text/x-python",
   "name": "python",
   "nbconvert_exporter": "python",
   "pygments_lexer": "ipython3",
   "version": "3.9.7"
  }
 },
 "nbformat": 4,
 "nbformat_minor": 5
}

{
 "cells": [
  {
   "cell_type": "code",
   "execution_count": 1,
   "id": "7cab4d2d",
   "metadata": {},
   "outputs": [
    {
     "data": {
      "text/plain": [
       "'\\n  Author: Adam Tutko\\n  Description: This program checks applicants to Moogle against a set of criterion\\n               and if they pass all of them accepts them as an applicant to consider\\n\\n  Date: 08-30-2021\\n'"
      ]
     },
     "execution_count": 1,
     "metadata": {},
     "output_type": "execute_result"
    }
   ],
   "source": [
    "#!usr/bin/python\n",
    "\n",
    "\"\"\"\n",
    "  Author: Adam Tutko\n",
    "  Description: This program checks applicants to Moogle against a set of criterion\n",
    "               and if they pass all of them accepts them as an applicant to consider\n",
    "\n",
    "  Date: 08-30-2021\n",
    "\"\"\"\n",
    "\n"
   ]
  },
  {
   "cell_type": "code",
   "execution_count": 2,
   "id": "54c95127",
   "metadata": {},
   "outputs": [],
   "source": [
    "import pandas as pd\n",
    "from sklearn.linear_model import LinearRegression"
   ]
  },
  {
   "cell_type": "code",
   "execution_count": 18,
   "id": "e594ad97",
   "metadata": {},
   "outputs": [
    {
     "name": "stdout",
     "output_type": "stream",
     "text": [
      "0          1\n",
      "1          2\n",
      "2          3\n",
      "3          4\n",
      "4          5\n",
      "        ... \n",
      "1695    1696\n",
      "1696    1697\n",
      "1697    1698\n",
      "1698    1699\n",
      "1699    1700\n",
      "Name: Record ID (ID): Unique identifier, Length: 1700, dtype: int64\n"
     ]
    }
   ],
   "source": [
    "\n",
    "def main():\n",
    "  \n",
    "  data = pd.read_csv('dataWithHeaders.csv')\n",
    "  #print(data)\n",
    "  print(data.loc[:, \"Record ID (ID): Unique identifier\"])\n",
    "\n",
    "\n",
    "if __name__ == \"__main__\":\n",
    "    main()"
   ]
  },
  {
   "cell_type": "code",
   "execution_count": null,
   "id": "63e6ec25",
   "metadata": {},
   "outputs": [],
   "source": []
  }
 ],
 "metadata": {
  "kernelspec": {
   "display_name": "Python 3 (ipykernel)",
   "language": "python",
   "name": "python3"
  },
  "language_info": {
   "codemirror_mode": {
    "name": "ipython",
    "version": 3
   },
   "file_extension": ".py",
   "mimetype": "text/x-python",
   "name": "python",
   "nbconvert_exporter": "python",
   "pygments_lexer": "ipython3",
   "version": "3.9.7"
  }
 },
 "nbformat": 4,
 "nbformat_minor": 5
}

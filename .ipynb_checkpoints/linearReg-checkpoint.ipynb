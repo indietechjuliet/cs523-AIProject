{
 "cells": [
  {
   "cell_type": "code",
   "execution_count": 3,
   "id": "031a53b7",
   "metadata": {},
   "outputs": [
    {
     "data": {
      "text/plain": [
       "'\\n  Author: Adam Tutko\\n  Description: This program checks applicants to Moogle against a set of criterion\\n               and if they pass all of them accepts them as an applicant to consider\\n\\n  Date: 08-30-2021\\n'"
      ]
     },
     "execution_count": 3,
     "metadata": {},
     "output_type": "execute_result"
    }
   ],
   "source": [
    "#!usr/bin/python\n",
    "\n",
    "\"\"\"\n",
    "  Author: Adam Tutko\n",
    "  Description: This program checks applicants to Moogle against a set of criterion\n",
    "               and if they pass all of them accepts them as an applicant to consider\n",
    "\n",
    "  Date: 08-30-2021\n",
    "\"\"\"\n",
    "\n"
   ]
  },
  {
   "cell_type": "code",
   "execution_count": 4,
   "id": "dd8fb543",
   "metadata": {},
   "outputs": [],
   "source": [
    "import pandas as pd\n",
    "from sklearn.linear_model import LinearRegression"
   ]
  },
  {
   "cell_type": "code",
   "execution_count": 25,
   "id": "fce4b363",
   "metadata": {},
   "outputs": [
    {
     "name": "stdout",
     "output_type": "stream",
     "text": [
      "0      NaN\n",
      "1      NaN\n",
      "2      NaN\n",
      "3      NaN\n",
      "4      NaN\n",
      "        ..\n",
      "1695   NaN\n",
      "1696   NaN\n",
      "1697   NaN\n",
      "1698   NaN\n",
      "1699   NaN\n",
      "Name: Chronic heart failure (ZSN): Nominal, Length: 1700, dtype: float64\n"
     ]
    }
   ],
   "source": [
    "\n",
    "data = pd.read_csv('dataWithHeaders.csv')\n",
    "  \n",
    "predictors = []\n",
    "    \n",
    "for x in range(2, 124):\n",
    "  predictors.append(x)\n",
    "\n",
    "\n",
    "print(data.iloc[:, 124])"
   ]
  },
  {
   "cell_type": "code",
   "execution_count": 18,
   "id": "29dd3010",
   "metadata": {},
   "outputs": [],
   "source": [
    "X = data.iloc[:, predictors]"
   ]
  },
  {
   "cell_type": "code",
   "execution_count": 16,
   "id": "3e290f70",
   "metadata": {},
   "outputs": [],
   "source": [
    "Y = data.iloc[:, [124]]"
   ]
  },
  {
   "cell_type": "code",
   "execution_count": null,
   "id": "8647395d",
   "metadata": {},
   "outputs": [],
   "source": []
  }
 ],
 "metadata": {
  "kernelspec": {
   "display_name": "Python 3 (ipykernel)",
   "language": "python",
   "name": "python3"
  },
  "language_info": {
   "codemirror_mode": {
    "name": "ipython",
    "version": 3
   },
   "file_extension": ".py",
   "mimetype": "text/x-python",
   "name": "python",
   "nbconvert_exporter": "python",
   "pygments_lexer": "ipython3",
   "version": "3.9.7"
  }
 },
 "nbformat": 4,
 "nbformat_minor": 5
}
